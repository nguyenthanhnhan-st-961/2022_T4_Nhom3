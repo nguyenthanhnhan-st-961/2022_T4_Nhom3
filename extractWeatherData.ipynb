{
 "cells": [
  {
   "cell_type": "code",
   "execution_count": 2,
   "metadata": {},
   "outputs": [],
   "source": [
    "import requests\n",
    "from bs4 import BeautifulSoup\n",
    "import pandas as pd\n",
    "import datetime\n",
    "import os\n",
    "import time\n",
    "import schedule"
   ]
  },
  {
   "cell_type": "code",
   "execution_count": 3,
   "metadata": {},
   "outputs": [],
   "source": [
    "data=pd.DataFrame(columns=['Name','Date', 'Time','Temperature','Description','Low/high','Humidity','Vision','Wind','UV index','Air quality'])"
   ]
  },
  {
   "cell_type": "code",
   "execution_count": 11,
   "metadata": {},
   "outputs": [],
   "source": [
    "url='https://thoitiet.vn'\n",
    "html=requests.get(url)\n",
    "\n",
    "bs=BeautifulSoup(html.text,'html.parser')\n",
    "a=bs.find_all('a',title=True)\n",
    "\n",
    "provinces={}\n",
    "for i in a[:-2]:\n",
    "    provinces[i.attrs['href']]=i.attrs['title']"
   ]
  },
  {
   "cell_type": "code",
   "execution_count": 8,
   "metadata": {},
   "outputs": [],
   "source": [
    "path=os.path.join(os.getcwd(),'weather_data_extracted.csv')\n",
    "data.to_csv(path,index=False)"
   ]
  },
  {
   "cell_type": "code",
   "execution_count": 7,
   "metadata": {},
   "outputs": [
    {
     "data": {
      "text/plain": [
       "'d:\\\\VSCode\\\\DataWarehouse\\\\weather_data_extracted.csv'"
      ]
     },
     "execution_count": 7,
     "metadata": {},
     "output_type": "execute_result"
    }
   ],
   "source": [
    "path"
   ]
  },
  {
   "cell_type": "code",
   "execution_count": 13,
   "metadata": {},
   "outputs": [],
   "source": [
    "def extract(data,provinces):\n",
    "    data.drop(data.index,inplace=True)\n",
    "    for province in provinces:\n",
    "        url='https://thoitiet.vn'+province\n",
    "        content=requests.get(url)\n",
    "        soup=BeautifulSoup(content.text,'html.parser')\n",
    "        weather_detail = soup.find_all('span', class_='text-white op-8 fw-bold')\n",
    "        air=str(soup.find('h2',class_='air-title').string)\n",
    "        date_time=datetime.datetime.now()\n",
    "\n",
    "        name=provinces[province]\n",
    "        date = date_time.strftime('%d/%m/%Y')\n",
    "        time = date_time.strftime('%H:%M')\n",
    "        temperature=soup.find(class_='current-temperature').string\n",
    "        description=soup.find(class_='overview-caption-item overview-caption-item-detail').string\n",
    "        low_high=weather_detail[0].string\n",
    "        humidity=weather_detail[1].string\n",
    "        vision=weather_detail[2].string\n",
    "        wind=weather_detail[3].string\n",
    "        uv_index=weather_detail[5].string\n",
    "        air_quality=air.split(': ')[1]\n",
    "        air_quality=air_quality.split('\\r')[0]\n",
    "\n",
    "        data = pd.concat([data,pd.DataFrame([{'Name':name,'Date':date, 'Time':time,'Temperature':temperature,'Description':description,'Low/high':low_high,'Humidity':humidity,'Vision':vision,'Wind':wind,'UV index':uv_index,'Air quality':air_quality}])],ignore_index=True)\n",
    "    data.to_csv(path,mode='a',index=False,header=False)\n"
   ]
  }
 ],
 "metadata": {
  "kernelspec": {
   "display_name": "Python 3.10.6 64-bit",
   "language": "python",
   "name": "python3"
  },
  "language_info": {
   "codemirror_mode": {
    "name": "ipython",
    "version": 3
   },
   "file_extension": ".py",
   "mimetype": "text/x-python",
   "name": "python",
   "nbconvert_exporter": "python",
   "pygments_lexer": "ipython3",
   "version": "3.10.6"
  },
  "orig_nbformat": 4,
  "vscode": {
   "interpreter": {
    "hash": "3bc1a11519d29b3ed6f08646f3ece60640217e649724c6bcfd38e1173c1a1bce"
   }
  }
 },
 "nbformat": 4,
 "nbformat_minor": 2
}
