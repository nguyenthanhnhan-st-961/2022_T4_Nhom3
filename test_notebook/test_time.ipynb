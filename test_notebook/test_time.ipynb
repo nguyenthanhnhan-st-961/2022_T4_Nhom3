{
 "cells": [
  {
   "cell_type": "code",
   "execution_count": 65,
   "metadata": {},
   "outputs": [],
   "source": [
    "import pandas as pd\n",
    "from datetime import time, datetime\n",
    "\n",
    "dim_time = pd.DataFrame(columns=['hour_mintue', 'hour', 'minute'])"
   ]
  },
  {
   "cell_type": "code",
   "execution_count": 66,
   "metadata": {},
   "outputs": [],
   "source": [
    "day_hour =[]\n",
    "for i in range(24):\n",
    "    for j in range(60):\n",
    "        hour_minute = str(i) + ':' + str(j)\n",
    "        t = datetime.strptime(hour_minute, '%H:%M').time()\n",
    "        day_hour.append(t.__str__())\n",
    "\n",
    "for i in range(len(day_hour)):\n",
    "    dim_time = pd.concat([dim_time ,pd.DataFrame([{'hour_mintue':day_hour[i], 'hour':day_hour[i].split(':')[0], 'minute':day_hour[i].split(':')[1]}])], ignore_index=True)"
   ]
  },
  {
   "cell_type": "code",
   "execution_count": 67,
   "metadata": {},
   "outputs": [],
   "source": [
    "dim_time.to_csv('D:\\VSCode\\DataWarehouse\\csvfile\\dim_time.csv', index=True, header=False)"
   ]
  },
  {
   "cell_type": "code",
   "execution_count": null,
   "metadata": {},
   "outputs": [],
   "source": [
    "dim_time"
   ]
  }
 ],
 "metadata": {
  "kernelspec": {
   "display_name": "Python 3.10.6 64-bit",
   "language": "python",
   "name": "python3"
  },
  "language_info": {
   "codemirror_mode": {
    "name": "ipython",
    "version": 3
   },
   "file_extension": ".py",
   "mimetype": "text/x-python",
   "name": "python",
   "nbconvert_exporter": "python",
   "pygments_lexer": "ipython3",
   "version": "3.10.6"
  },
  "orig_nbformat": 4,
  "vscode": {
   "interpreter": {
    "hash": "3bc1a11519d29b3ed6f08646f3ece60640217e649724c6bcfd38e1173c1a1bce"
   }
  }
 },
 "nbformat": 4,
 "nbformat_minor": 2
}
