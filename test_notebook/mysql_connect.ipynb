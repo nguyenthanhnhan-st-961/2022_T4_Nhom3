{
 "cells": [
  {
   "cell_type": "code",
   "execution_count": 1,
   "metadata": {},
   "outputs": [],
   "source": [
    "import mysql.connector\n",
    "import csv\n",
    "import logging"
   ]
  },
  {
   "cell_type": "code",
   "execution_count": 2,
   "metadata": {},
   "outputs": [
    {
     "name": "stdout",
     "output_type": "stream",
     "text": [
      "<mysql.connector.connection_cext.CMySQLConnection object at 0x0000024A19807910>\n"
     ]
    }
   ],
   "source": [
    "conn = mysql.connector.connect(host='localhost', user='nhannguyen', password='admin', database='staging', autocommit=True)\n",
    "print(conn)\n",
    "cur = conn.cursor()"
   ]
  },
  {
   "cell_type": "code",
   "execution_count": 7,
   "metadata": {},
   "outputs": [
    {
     "data": {
      "text/plain": [
       "('Hà Giang',\n",
       " '2022-09-26',\n",
       " '07:42:00',\n",
       " 25,\n",
       " 'Bầu trời quang đãng',\n",
       " 81,\n",
       " Decimal('10.0'),\n",
       " Decimal('0.9'),\n",
       " 0,\n",
       " 'Rất kém')"
      ]
     },
     "execution_count": 7,
     "metadata": {},
     "output_type": "execute_result"
    }
   ],
   "source": [
    "cur.callproc('insert_data',[\"Hà Giang\",\"2022-09-26\",\"07:42:00\",25,\"Bầu trời quang đãng\",81,10.0,0.9,0,\"Rất kém\"])"
   ]
  },
  {
   "cell_type": "code",
   "execution_count": null,
   "metadata": {},
   "outputs": [],
   "source": [
    "# logging config\n",
    "logging.basicConfig(level=logging.INFO, filename='log_file.log', format='%(asctime)s - %(levelname)s - %(message)s')"
   ]
  },
  {
   "cell_type": "code",
   "execution_count": 33,
   "metadata": {},
   "outputs": [],
   "source": [
    "# create database staging\n",
    "staging = 'create database staging'\n",
    "# create table weather_data\n",
    "weather_data = 'create table weather_data ( \\\n",
    "   ID int primary key auto_increment,\\\n",
    "   Name varchar(20), \\\n",
    "   Date date, \\\n",
    "   Time time, \\\n",
    "   Temperature tinyint, \\\n",
    "   Description nvarchar(50), \\\n",
    "   Humidity tinyint, \\\n",
    "   Vision tinyint, \\\n",
    "   Wind float, \\\n",
    "   UV_index float, \\\n",
    "   Air_quality varchar(10) \\\n",
    "    )'\n",
    "insert='insert into weather_data (Name,Date, Time,Temperature,Description,Humidity,Vision,Wind,UV_index,Air_quality) \\\n",
    "   values \\\n",
    "   (\"Hà Giang\",\"2022-09-26\",\"07:42:00\",25,\"Bầu trời quang đãng\",81,10.0,0.9,0,\"Rất kém\"), \\\n",
    "   (\"Cao Bằng\",\"2022-09-26\",\"07:42:00\",26,\"Bầu trời quang đãng\",81,10.0,0.96,0,\"Rất kém\")'\n",
    "select='select * from weather_data'"
   ]
  },
  {
   "cell_type": "code",
   "execution_count": 15,
   "metadata": {},
   "outputs": [],
   "source": [
    "# create table staging\n",
    "cur.execute(staging)"
   ]
  },
  {
   "cell_type": "code",
   "execution_count": 29,
   "metadata": {},
   "outputs": [],
   "source": [
    "# drop table weather_data\n",
    "cur.execute('drop table if exists weather_data')"
   ]
  },
  {
   "cell_type": "code",
   "execution_count": 32,
   "metadata": {},
   "outputs": [],
   "source": [
    "# create table weather_data\n",
    "cur.execute(weather_data)"
   ]
  },
  {
   "cell_type": "code",
   "execution_count": 35,
   "metadata": {},
   "outputs": [],
   "source": [
    "# insert values into table weather_data\n",
    "cur.execute(insert)\n",
    "# conn.commit()"
   ]
  },
  {
   "cell_type": "code",
   "execution_count": 50,
   "metadata": {},
   "outputs": [],
   "source": [
    "csv_file='etl_data.csv'\n",
    "csv_insert='insert into weather_data (Name,Date, Time,Temperature,Description,Humidity,Vision,Wind,UV_index,Air_quality) \\\n",
    "   values \\\n",
    "   (%s,%s,%s,%s,%s,%s,%s,%s,%s,%s)'\n",
    "select='select * from weather_data'\n",
    "with open(csv_file, 'r', encoding='utf-8') as csvfile:\n",
    "    csv_data=csv.reader(csvfile)\n",
    "    for row in csv_data:\n",
    "        cur.execute(csv_insert, row)"
   ]
  },
  {
   "cell_type": "code",
   "execution_count": 58,
   "metadata": {},
   "outputs": [],
   "source": [
    "# delete all values from weather_data\n",
    "cur.execute('truncate table weather_data')"
   ]
  },
  {
   "cell_type": "code",
   "execution_count": 62,
   "metadata": {},
   "outputs": [
    {
     "name": "stdout",
     "output_type": "stream",
     "text": [
      "(1, 'Hà Giang', datetime.date(2022, 9, 26), datetime.timedelta(seconds=27720), 25, 'Bầu trời quang đãng', 81, 10, 0.9, 0.0, 'Rất kém')\n",
      "(2, 'Cao Bằng', datetime.date(2022, 9, 26), datetime.timedelta(seconds=27720), 26, 'Bầu trời quang đãng', 81, 10, 0.96, 0.0, 'Rất kém')\n",
      "(3, 'Bắc Kạn', datetime.date(2022, 9, 26), datetime.timedelta(seconds=27720), 23, 'Bầu trời quang đãng', 95, 10, 0.76, 0.0, 'Rất kém')\n",
      "(4, 'Tuyên Quang', datetime.date(2022, 9, 26), datetime.timedelta(seconds=27720), 23, 'Mây rải rác', 98, 10, 0.56, 0.0, 'Rất kém')\n",
      "(5, 'Thái Nguyên', datetime.date(2022, 9, 26), datetime.timedelta(seconds=27720), 24, 'Bầu trời quang đãng', 83, 10, 1.86, 0.45, 'Rất kém')\n",
      "(6, 'Lạng Sơn', datetime.date(2022, 9, 26), datetime.timedelta(seconds=27720), 23, 'Bầu trời quang đãng', 89, 10, 1.18, 0.0, 'Rất kém')\n",
      "(7, 'Quảng Ninh', datetime.date(2022, 9, 26), datetime.timedelta(seconds=27720), 25, 'Mây cụm', 80, 10, 1.39, 0.0, 'Rất kém')\n",
      "(8, 'Bắc Giang', datetime.date(2022, 9, 26), datetime.timedelta(seconds=27720), 24, 'Mây thưa', 86, 10, 2.12, 0.0, 'Rất kém')\n",
      "(9, 'Phú Thọ', datetime.date(2022, 9, 26), datetime.timedelta(seconds=27720), 23, 'Bầu trời quang đãng', 92, 10, 1.7, 0.42, 'Kém')\n",
      "(10, 'Lào Cai', datetime.date(2022, 9, 26), datetime.timedelta(seconds=27720), 24, 'Mây cụm', 90, 10, 0.39, 0.0, 'Khá')\n",
      "(11, 'Điện Biên', datetime.date(2022, 9, 26), datetime.timedelta(seconds=27720), 24, 'Mây thưa', 82, 10, 0.91, 0.0, 'Khá')\n",
      "(12, 'Lai Châu', datetime.date(2022, 9, 26), datetime.timedelta(seconds=27720), 22, 'Mây rải rác', 95, 10, 0.4, 0.0, 'Khá')\n",
      "(13, 'Sơn La', datetime.date(2022, 9, 26), datetime.timedelta(seconds=27720), 20, 'Mây thưa', 96, 10, 0.27, 0.37, 'Kém')\n",
      "(14, 'Yên Bái', datetime.date(2022, 9, 26), datetime.timedelta(seconds=27720), 24, 'Bầu trời quang đãng', 92, 10, 1.56, 0.0, 'Kém')\n",
      "(15, 'Hoà Bình', datetime.date(2022, 9, 26), datetime.timedelta(seconds=27720), 24, 'Bầu trời quang đãng', 91, 10, 1.34, 0.0, 'Rất kém')\n",
      "(16, 'Hà Nội', datetime.date(2022, 9, 26), datetime.timedelta(seconds=27720), 24, 'Sương mờ', 94, 2, 1.54, 0.0, 'Rất kém')\n",
      "(17, 'Vĩnh Phúc', datetime.date(2022, 9, 26), datetime.timedelta(seconds=27720), 24, 'Bầu trời quang đãng', 84, 10, 2.87, 0.0, 'Rất kém')\n",
      "(18, 'Bắc Ninh', datetime.date(2022, 9, 26), datetime.timedelta(seconds=27720), 24, 'Mây thưa', 79, 10, 2.99, 0.0, 'Rất kém')\n",
      "(19, 'Hải Dương', datetime.date(2022, 9, 26), datetime.timedelta(seconds=27720), 25, 'Mây thưa', 89, 10, 3.32, 0.48, 'Rất kém')\n",
      "(20, 'Hải Phòng', datetime.date(2022, 9, 26), datetime.timedelta(seconds=27720), 25, 'Sương mờ', 100, 4, 2.57, 0.0, 'Rất kém')\n",
      "(21, 'Hưng Yên', datetime.date(2022, 9, 26), datetime.timedelta(seconds=27720), 26, 'Mây thưa', 81, 10, 3.3, 0.0, 'Rất kém')\n",
      "(22, 'Thái Bình', datetime.date(2022, 9, 26), datetime.timedelta(seconds=27720), 27, 'Mây rải rác', 80, 10, 4.26, 1.95, 'Rất kém')\n",
      "(23, 'Hà Nam', datetime.date(2022, 9, 26), datetime.timedelta(seconds=27720), 26, 'Mây thưa', 80, 10, 2.86, 0.45, 'Rất kém')\n",
      "(24, 'Nam Định', datetime.date(2022, 9, 26), datetime.timedelta(seconds=27720), 26, 'Mây thưa', 80, 10, 3.64, 0.0, 'Rất kém')\n",
      "(25, 'Ninh Bình', datetime.date(2022, 9, 26), datetime.timedelta(seconds=27720), 26, 'Mây thưa', 80, 10, 2.22, 0.0, 'Rất kém')\n",
      "(26, 'Thanh Hóa', datetime.date(2022, 9, 26), datetime.timedelta(seconds=27720), 25, 'Mây cụm', 85, 10, 2.23, 0.46, 'Rất kém')\n",
      "(27, 'Nghệ An', datetime.date(2022, 9, 26), datetime.timedelta(seconds=27720), 24, 'Mây rải rác', 90, 10, 2.42, 0.0, 'Trung bình')\n",
      "(28, 'Hà Tĩnh', datetime.date(2022, 9, 26), datetime.timedelta(seconds=27720), 25, 'Mây cụm', 87, 10, 2.53, 0.0, 'Kém')\n",
      "(29, 'Quảng Bình', datetime.date(2022, 9, 26), datetime.timedelta(seconds=27720), 25, 'Mây cụm', 90, 10, 2.31, 0.0, 'Tốt')\n",
      "(30, 'Quảng Trị', datetime.date(2022, 9, 26), datetime.timedelta(seconds=27720), 26, 'Mây cụm', 85, 10, 2.05, 0.6, 'Tốt')\n",
      "(31, 'Thừa Thiên Huế', datetime.date(2022, 9, 26), datetime.timedelta(seconds=27720), 24, 'Mây cụm', 100, 9, 2.06, 2.29, 'Khá')\n",
      "(32, 'Đà Nẵng', datetime.date(2022, 9, 26), datetime.timedelta(seconds=27720), 25, 'Mây cụm', 94, 8, 1.03, 0.0, 'Khá')\n",
      "(33, 'Quảng Nam', datetime.date(2022, 9, 26), datetime.timedelta(seconds=27720), 24, 'Nhiều mây', 94, 10, 2.8, 0.25, 'Khá')\n",
      "(34, 'Quảng Ngãi', datetime.date(2022, 9, 26), datetime.timedelta(seconds=27720), 24, 'Nhiều mây', 91, 10, 2.93, 0.08, 'Khá')\n",
      "(35, 'Bình Định', datetime.date(2022, 9, 26), datetime.timedelta(seconds=27720), 26, 'Nhiều mây', 82, 10, 2.79, 0.75, 'Khá')\n",
      "(36, 'Phú Yên', datetime.date(2022, 9, 26), datetime.timedelta(seconds=27720), 24, 'Mưa nhẹ', 88, 10, 2.22, 0.0, 'Tốt')\n",
      "(37, 'Khánh Hòa', datetime.date(2022, 9, 26), datetime.timedelta(seconds=27720), 25, 'Nhiều mây', 77, 10, 1.47, 0.78, 'Khá')\n",
      "(38, 'Ninh Thuận', datetime.date(2022, 9, 26), datetime.timedelta(seconds=27720), 27, 'Mưa nhẹ', 76, 10, 0.99, 0.0, 'Tốt')\n",
      "(39, 'Bình Thuận', datetime.date(2022, 9, 26), datetime.timedelta(seconds=27720), 24, 'Nhiều mây', 83, 10, 1.54, 0.0, 'Tốt')\n",
      "(40, 'Kon Tum', datetime.date(2022, 9, 26), datetime.timedelta(seconds=27720), 22, 'Nhiều mây', 92, 10, 0.8, 2.16, 'Tốt')\n",
      "(41, 'Gia Lai', datetime.date(2022, 9, 26), datetime.timedelta(seconds=27720), 24, 'Nhiều mây', 85, 10, 1.6, 0.0, 'Tốt')\n",
      "(42, 'Đắk Lắk', datetime.date(2022, 9, 26), datetime.timedelta(seconds=27720), 22, 'Nhiều mây', 96, 10, 1.62, 0.0, 'Tốt')\n",
      "(43, 'Đắk Nông', datetime.date(2022, 9, 26), datetime.timedelta(seconds=27720), 22, 'Nhiều mây', 96, 10, 1.62, 0.0, 'Tốt')\n",
      "(44, 'Lâm Đồng', datetime.date(2022, 9, 26), datetime.timedelta(seconds=27720), 23, 'Mưa nhẹ', 77, 10, 1.29, 0.71, 'Tốt')\n",
      "(45, 'Bình Phước', datetime.date(2022, 9, 26), datetime.timedelta(seconds=27720), 23, 'Nhiều mây', 97, 10, 0.53, 1.46, 'Tốt')\n",
      "(46, 'Tây Ninh', datetime.date(2022, 9, 26), datetime.timedelta(seconds=27720), 25, 'Mưa vừa', 86, 10, 1.45, 0.0, 'Khá')\n",
      "(47, 'Bình Dương', datetime.date(2022, 9, 26), datetime.timedelta(seconds=27720), 25, 'Mây cụm', 94, 7, 0.51, 0.0, 'Khá')\n",
      "(48, 'Đồng Nai', datetime.date(2022, 9, 26), datetime.timedelta(seconds=27720), 25, 'Nhiều mây', 91, 10, 1.97, 0.33, 'Kém')\n",
      "(49, 'Bà Rịa - Vũng Tàu', datetime.date(2022, 9, 26), datetime.timedelta(seconds=27720), 24, 'Nhiều mây', 93, 10, 1.86, 0.0, 'Rất kém')\n",
      "(50, 'Hồ Chí Minh', datetime.date(2022, 9, 26), datetime.timedelta(seconds=27720), 25, 'Mây cụm', 94, 7, 0.51, 0.0, 'Kém')\n",
      "(51, 'Long An', datetime.date(2022, 9, 26), datetime.timedelta(seconds=27720), 25, 'Nhiều mây', 90, 10, 1.54, 0.0, 'Kém')\n",
      "(52, 'Tiền Giang', datetime.date(2022, 9, 26), datetime.timedelta(seconds=27720), 24, 'Nhiều mây', 94, 10, 1.39, 0.0, 'Kém')\n",
      "(53, 'Bến Tre', datetime.date(2022, 9, 26), datetime.timedelta(seconds=27720), 24, 'Nhiều mây', 95, 10, 1.32, 0.0, 'Kém')\n",
      "(54, 'Trà Vinh', datetime.date(2022, 9, 26), datetime.timedelta(seconds=27720), 24, 'Nhiều mây', 92, 10, 1.56, 0.47, 'Kém')\n",
      "(55, 'Vĩnh Long', datetime.date(2022, 9, 26), datetime.timedelta(seconds=27720), 25, 'Nhiều mây', 91, 10, 1.57, 0.0, 'Kém')\n",
      "(56, 'Đồng Tháp', datetime.date(2022, 9, 26), datetime.timedelta(seconds=27720), 25, 'Nhiều mây', 88, 10, 1.36, 0.0, 'Kém')\n",
      "(57, 'An Giang', datetime.date(2022, 9, 26), datetime.timedelta(seconds=27720), 25, 'Nhiều mây', 89, 10, 1.4, 0.14, 'Trung bình')\n",
      "(58, 'Kiên Giang', datetime.date(2022, 9, 26), datetime.timedelta(seconds=27720), 25, 'Nhiều mây', 90, 10, 2.45, 1.89, 'Tốt')\n",
      "(59, 'Cần Thơ', datetime.date(2022, 9, 26), datetime.timedelta(seconds=27720), 25, 'Mây rải rác', 100, 8, 0.51, 0.0, 'Trung bình')\n",
      "(60, 'Hậu Giang', datetime.date(2022, 9, 26), datetime.timedelta(seconds=27720), 25, 'Nhiều mây', 90, 10, 1.95, 1.89, 'Khá')\n",
      "(61, 'Sóc Trăng', datetime.date(2022, 9, 26), datetime.timedelta(seconds=27720), 26, 'Nhiều mây', 88, 10, 2.07, 0.0, 'Khá')\n",
      "(62, 'Bạc Liêu', datetime.date(2022, 9, 26), datetime.timedelta(seconds=27720), 26, 'Nhiều mây', 83, 10, 2.14, 1.83, 'Khá')\n",
      "(63, 'Cà Mau', datetime.date(2022, 9, 26), datetime.timedelta(seconds=27720), 28, 'Nhiều mây', 71, 10, 0.67, 0.0, 'Tốt')\n"
     ]
    }
   ],
   "source": [
    "try:\n",
    "    # cur.execute('use demo;')\n",
    "    cur.execute(select)\n",
    "    result = cur.fetchall()\n",
    "    for x in result:\n",
    "        print (x)\n",
    "except:\n",
    "    print('fail')\n",
    "for x in cur:\n",
    "    print(x)\n"
   ]
  },
  {
   "cell_type": "markdown",
   "metadata": {},
   "source": [
    "### Close connection"
   ]
  },
  {
   "cell_type": "code",
   "execution_count": 63,
   "metadata": {},
   "outputs": [],
   "source": [
    "cur.close()\n",
    "conn.close()"
   ]
  }
 ],
 "metadata": {
  "kernelspec": {
   "display_name": "Python 3.10.6 64-bit",
   "language": "python",
   "name": "python3"
  },
  "language_info": {
   "codemirror_mode": {
    "name": "ipython",
    "version": 3
   },
   "file_extension": ".py",
   "mimetype": "text/x-python",
   "name": "python",
   "nbconvert_exporter": "python",
   "pygments_lexer": "ipython3",
   "version": "3.10.6"
  },
  "orig_nbformat": 4,
  "vscode": {
   "interpreter": {
    "hash": "3bc1a11519d29b3ed6f08646f3ece60640217e649724c6bcfd38e1173c1a1bce"
   }
  }
 },
 "nbformat": 4,
 "nbformat_minor": 2
}
