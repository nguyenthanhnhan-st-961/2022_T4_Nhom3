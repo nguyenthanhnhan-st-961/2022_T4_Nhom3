{
 "cells": [
  {
   "cell_type": "code",
   "execution_count": 1,
   "metadata": {},
   "outputs": [],
   "source": [
    "import mysql.connector\n",
    "import csv\n",
    "import logging\n",
    "import pandas as pd"
   ]
  },
  {
   "cell_type": "code",
   "execution_count": 2,
   "metadata": {},
   "outputs": [
    {
     "name": "stdout",
     "output_type": "stream",
     "text": [
      "<mysql.connector.connection_cext.CMySQLConnection object at 0x000001E67956B550>\n",
      "<mysql.connector.connection_cext.CMySQLConnection object at 0x000001E6684E7310>\n"
     ]
    }
   ],
   "source": [
    "conn1 = mysql.connector.connect(host='localhost', user='nhannguyen', password='123123', database='staging', autocommit=True)\n",
    "print(conn1)\n",
    "cur1 = conn1.cursor()\n",
    "\n",
    "conn2 = mysql.connector.connect(host='localhost', user='nhannguyen', password='123123', database='data_warehouse', autocommit=True)\n",
    "print(conn2)\n",
    "cur2 = conn2.cursor()"
   ]
  },
  {
   "cell_type": "code",
   "execution_count": 7,
   "metadata": {},
   "outputs": [
    {
     "data": {
      "text/plain": [
       "('Hà Giang',\n",
       " '2022-09-26',\n",
       " '07:42:00',\n",
       " 25,\n",
       " 'Bầu trời quang đãng',\n",
       " 81,\n",
       " Decimal('10.0'),\n",
       " Decimal('0.9'),\n",
       " 0,\n",
       " 'Rất kém')"
      ]
     },
     "execution_count": 7,
     "metadata": {},
     "output_type": "execute_result"
    }
   ],
   "source": [
    "cur.callproc('insert_data',[\"Hà Giang\",\"2022-09-26\",\"07:42:00\",25,\"Bầu trời quang đãng\",81,10.0,0.9,0,\"Rất kém\"])"
   ]
  },
  {
   "cell_type": "code",
   "execution_count": null,
   "metadata": {},
   "outputs": [],
   "source": [
    "# logging config\n",
    "logging.basicConfig(level=logging.INFO, filename='log_file.log', format='%(asctime)s - %(levelname)s - %(message)s')"
   ]
  },
  {
   "cell_type": "code",
   "execution_count": 33,
   "metadata": {},
   "outputs": [],
   "source": [
    "# create database staging\n",
    "staging = 'create database staging'\n",
    "# create table weather_data\n",
    "weather_data = 'create table weather_data ( \\\n",
    "   ID int primary key auto_increment,\\\n",
    "   Name varchar(20), \\\n",
    "   Date date, \\\n",
    "   Time time, \\\n",
    "   Temperature tinyint, \\\n",
    "   Description nvarchar(50), \\\n",
    "   Humidity tinyint, \\\n",
    "   Vision tinyint, \\\n",
    "   Wind float, \\\n",
    "   UV_index float, \\\n",
    "   Air_quality varchar(10) \\\n",
    "    )'\n",
    "insert='insert into weather_data (Name,Date, Time,Temperature,Description,Humidity,Vision,Wind,UV_index,Air_quality) \\\n",
    "   values \\\n",
    "   (\"Hà Giang\",\"2022-09-26\",\"07:42:00\",25,\"Bầu trời quang đãng\",81,10.0,0.9,0,\"Rất kém\"), \\\n",
    "   (\"Cao Bằng\",\"2022-09-26\",\"07:42:00\",26,\"Bầu trời quang đãng\",81,10.0,0.96,0,\"Rất kém\")'\n",
    "select='select * from weather_data'"
   ]
  },
  {
   "cell_type": "code",
   "execution_count": 15,
   "metadata": {},
   "outputs": [],
   "source": [
    "# create table staging\n",
    "cur.execute(staging)"
   ]
  },
  {
   "cell_type": "code",
   "execution_count": 29,
   "metadata": {},
   "outputs": [],
   "source": [
    "# drop table weather_data\n",
    "cur.execute('drop table if exists weather_data')"
   ]
  },
  {
   "cell_type": "code",
   "execution_count": 32,
   "metadata": {},
   "outputs": [],
   "source": [
    "# create table weather_data\n",
    "cur.execute(weather_data)"
   ]
  },
  {
   "cell_type": "code",
   "execution_count": 35,
   "metadata": {},
   "outputs": [],
   "source": [
    "# insert values into table weather_data\n",
    "cur.execute(insert)\n",
    "# conn.commit()"
   ]
  },
  {
   "cell_type": "code",
   "execution_count": 50,
   "metadata": {},
   "outputs": [],
   "source": [
    "csv_file='etl_data.csv'\n",
    "csv_insert='insert into weather_data (Name,Date, Time,Temperature,Description,Humidity,Vision,Wind,UV_index,Air_quality) \\\n",
    "   values \\\n",
    "   (%s,%s,%s,%s,%s,%s,%s,%s,%s,%s)'\n",
    "select='select * from weather_data'\n",
    "with open(csv_file, 'r', encoding='utf-8') as csvfile:\n",
    "    csv_data=csv.reader(csvfile)\n",
    "    for row in csv_data:\n",
    "        cur.execute(csv_insert, row)"
   ]
  },
  {
   "cell_type": "code",
   "execution_count": 58,
   "metadata": {},
   "outputs": [],
   "source": [
    "# delete all values from weather_data\n",
    "cur.execute('truncate table weather_data')"
   ]
  },
  {
   "cell_type": "code",
   "execution_count": 4,
   "metadata": {},
   "outputs": [
    {
     "name": "stdout",
     "output_type": "stream",
     "text": [
      "success\n"
     ]
    }
   ],
   "source": [
    "try:\n",
    "    # cur.execute('use demo;')\n",
    "    cur.execute('select * from staging.staging_raw')\n",
    "    result = cur.fetchall()\n",
    "    print('success')\n",
    "except:\n",
    "    print('fail')\n",
    "for x in cur:\n",
    "    print(x)"
   ]
  },
  {
   "cell_type": "code",
   "execution_count": 8,
   "metadata": {},
   "outputs": [
    {
     "data": {
      "text/html": [
       "<div>\n",
       "<style scoped>\n",
       "    .dataframe tbody tr th:only-of-type {\n",
       "        vertical-align: middle;\n",
       "    }\n",
       "\n",
       "    .dataframe tbody tr th {\n",
       "        vertical-align: top;\n",
       "    }\n",
       "\n",
       "    .dataframe thead th {\n",
       "        text-align: right;\n",
       "    }\n",
       "</style>\n",
       "<table border=\"1\" class=\"dataframe\">\n",
       "  <thead>\n",
       "    <tr style=\"text-align: right;\">\n",
       "      <th></th>\n",
       "      <th>0</th>\n",
       "      <th>1</th>\n",
       "      <th>2</th>\n",
       "      <th>3</th>\n",
       "    </tr>\n",
       "  </thead>\n",
       "  <tbody>\n",
       "    <tr>\n",
       "      <th>0</th>\n",
       "      <td>1</td>\n",
       "      <td>Hà Bắc</td>\n",
       "      <td>2022-11-06</td>\n",
       "      <td>0 days 09:25:00</td>\n",
       "    </tr>\n",
       "    <tr>\n",
       "      <th>1</th>\n",
       "      <td>2</td>\n",
       "      <td>Hà Nam</td>\n",
       "      <td>2022-11-06</td>\n",
       "      <td>0 days 09:26:00</td>\n",
       "    </tr>\n",
       "    <tr>\n",
       "      <th>2</th>\n",
       "      <td>3</td>\n",
       "      <td>Bắc Kạn</td>\n",
       "      <td>2022-11-06</td>\n",
       "      <td>0 days 09:25:00</td>\n",
       "    </tr>\n",
       "    <tr>\n",
       "      <th>3</th>\n",
       "      <td>4</td>\n",
       "      <td>Tuyên Quang</td>\n",
       "      <td>2022-11-06</td>\n",
       "      <td>0 days 09:25:00</td>\n",
       "    </tr>\n",
       "    <tr>\n",
       "      <th>4</th>\n",
       "      <td>5</td>\n",
       "      <td>Thái Nguyên</td>\n",
       "      <td>2022-11-06</td>\n",
       "      <td>0 days 09:25:00</td>\n",
       "    </tr>\n",
       "    <tr>\n",
       "      <th>...</th>\n",
       "      <td>...</td>\n",
       "      <td>...</td>\n",
       "      <td>...</td>\n",
       "      <td>...</td>\n",
       "    </tr>\n",
       "    <tr>\n",
       "      <th>58</th>\n",
       "      <td>59</td>\n",
       "      <td>Cần Thơ</td>\n",
       "      <td>2022-11-06</td>\n",
       "      <td>0 days 09:25:00</td>\n",
       "    </tr>\n",
       "    <tr>\n",
       "      <th>59</th>\n",
       "      <td>60</td>\n",
       "      <td>Hậu Giang</td>\n",
       "      <td>2022-11-06</td>\n",
       "      <td>0 days 09:25:00</td>\n",
       "    </tr>\n",
       "    <tr>\n",
       "      <th>60</th>\n",
       "      <td>61</td>\n",
       "      <td>Sóc Trăng</td>\n",
       "      <td>2022-11-06</td>\n",
       "      <td>0 days 09:26:00</td>\n",
       "    </tr>\n",
       "    <tr>\n",
       "      <th>61</th>\n",
       "      <td>62</td>\n",
       "      <td>Bạc Liêu</td>\n",
       "      <td>2022-11-06</td>\n",
       "      <td>0 days 09:26:00</td>\n",
       "    </tr>\n",
       "    <tr>\n",
       "      <th>62</th>\n",
       "      <td>63</td>\n",
       "      <td>Cà Mau</td>\n",
       "      <td>2022-11-06</td>\n",
       "      <td>0 days 09:26:00</td>\n",
       "    </tr>\n",
       "  </tbody>\n",
       "</table>\n",
       "<p>63 rows × 4 columns</p>\n",
       "</div>"
      ],
      "text/plain": [
       "     0            1           2               3\n",
       "0    1       Hà Bắc  2022-11-06 0 days 09:25:00\n",
       "1    2       Hà Nam  2022-11-06 0 days 09:26:00\n",
       "2    3      Bắc Kạn  2022-11-06 0 days 09:25:00\n",
       "3    4  Tuyên Quang  2022-11-06 0 days 09:25:00\n",
       "4    5  Thái Nguyên  2022-11-06 0 days 09:25:00\n",
       "..  ..          ...         ...             ...\n",
       "58  59      Cần Thơ  2022-11-06 0 days 09:25:00\n",
       "59  60    Hậu Giang  2022-11-06 0 days 09:25:00\n",
       "60  61    Sóc Trăng  2022-11-06 0 days 09:26:00\n",
       "61  62     Bạc Liêu  2022-11-06 0 days 09:26:00\n",
       "62  63       Cà Mau  2022-11-06 0 days 09:26:00\n",
       "\n",
       "[63 rows x 4 columns]"
      ]
     },
     "execution_count": 8,
     "metadata": {},
     "output_type": "execute_result"
    }
   ],
   "source": [
    "cur1.execute('select * from staging.staging_dim_province')\n",
    "result1 = cur1.fetchall()\n",
    "df1 = pd.DataFrame(result1)\n",
    "df1"
   ]
  },
  {
   "cell_type": "code",
   "execution_count": 9,
   "metadata": {},
   "outputs": [
    {
     "data": {
      "text/html": [
       "<div>\n",
       "<style scoped>\n",
       "    .dataframe tbody tr th:only-of-type {\n",
       "        vertical-align: middle;\n",
       "    }\n",
       "\n",
       "    .dataframe tbody tr th {\n",
       "        vertical-align: top;\n",
       "    }\n",
       "\n",
       "    .dataframe thead th {\n",
       "        text-align: right;\n",
       "    }\n",
       "</style>\n",
       "<table border=\"1\" class=\"dataframe\">\n",
       "  <thead>\n",
       "    <tr style=\"text-align: right;\">\n",
       "      <th></th>\n",
       "      <th>0</th>\n",
       "      <th>1</th>\n",
       "      <th>2</th>\n",
       "      <th>3</th>\n",
       "    </tr>\n",
       "  </thead>\n",
       "  <tbody>\n",
       "    <tr>\n",
       "      <th>0</th>\n",
       "      <td>1</td>\n",
       "      <td>Hà Giang</td>\n",
       "      <td>2022-11-06</td>\n",
       "      <td>0 days</td>\n",
       "    </tr>\n",
       "    <tr>\n",
       "      <th>1</th>\n",
       "      <td>2</td>\n",
       "      <td>Cao Bằng</td>\n",
       "      <td>2022-11-06</td>\n",
       "      <td>0 days</td>\n",
       "    </tr>\n",
       "    <tr>\n",
       "      <th>2</th>\n",
       "      <td>3</td>\n",
       "      <td>Bắc Kạn</td>\n",
       "      <td>2022-11-06</td>\n",
       "      <td>0 days</td>\n",
       "    </tr>\n",
       "    <tr>\n",
       "      <th>3</th>\n",
       "      <td>4</td>\n",
       "      <td>Tuyên Quang</td>\n",
       "      <td>2022-11-06</td>\n",
       "      <td>0 days</td>\n",
       "    </tr>\n",
       "    <tr>\n",
       "      <th>4</th>\n",
       "      <td>5</td>\n",
       "      <td>Thái Nguyên</td>\n",
       "      <td>2022-11-06</td>\n",
       "      <td>0 days</td>\n",
       "    </tr>\n",
       "    <tr>\n",
       "      <th>...</th>\n",
       "      <td>...</td>\n",
       "      <td>...</td>\n",
       "      <td>...</td>\n",
       "      <td>...</td>\n",
       "    </tr>\n",
       "    <tr>\n",
       "      <th>58</th>\n",
       "      <td>59</td>\n",
       "      <td>Cần Thơ</td>\n",
       "      <td>2022-11-06</td>\n",
       "      <td>0 days</td>\n",
       "    </tr>\n",
       "    <tr>\n",
       "      <th>59</th>\n",
       "      <td>60</td>\n",
       "      <td>Hậu Giang</td>\n",
       "      <td>2022-11-06</td>\n",
       "      <td>0 days</td>\n",
       "    </tr>\n",
       "    <tr>\n",
       "      <th>60</th>\n",
       "      <td>61</td>\n",
       "      <td>Sóc Trăng</td>\n",
       "      <td>2022-11-06</td>\n",
       "      <td>0 days</td>\n",
       "    </tr>\n",
       "    <tr>\n",
       "      <th>61</th>\n",
       "      <td>62</td>\n",
       "      <td>Bạc Liêu</td>\n",
       "      <td>2022-11-06</td>\n",
       "      <td>0 days</td>\n",
       "    </tr>\n",
       "    <tr>\n",
       "      <th>62</th>\n",
       "      <td>63</td>\n",
       "      <td>Cà Mau</td>\n",
       "      <td>2022-11-06</td>\n",
       "      <td>0 days</td>\n",
       "    </tr>\n",
       "  </tbody>\n",
       "</table>\n",
       "<p>63 rows × 4 columns</p>\n",
       "</div>"
      ],
      "text/plain": [
       "     0            1           2      3\n",
       "0    1     Hà Giang  2022-11-06 0 days\n",
       "1    2     Cao Bằng  2022-11-06 0 days\n",
       "2    3      Bắc Kạn  2022-11-06 0 days\n",
       "3    4  Tuyên Quang  2022-11-06 0 days\n",
       "4    5  Thái Nguyên  2022-11-06 0 days\n",
       "..  ..          ...         ...    ...\n",
       "58  59      Cần Thơ  2022-11-06 0 days\n",
       "59  60    Hậu Giang  2022-11-06 0 days\n",
       "60  61    Sóc Trăng  2022-11-06 0 days\n",
       "61  62     Bạc Liêu  2022-11-06 0 days\n",
       "62  63       Cà Mau  2022-11-06 0 days\n",
       "\n",
       "[63 rows x 4 columns]"
      ]
     },
     "execution_count": 9,
     "metadata": {},
     "output_type": "execute_result"
    }
   ],
   "source": [
    "cur2.execute('select id_province, name, start_date, expired_time from data_warehouse.dim_province')\n",
    "result2 = cur2.fetchall()\n",
    "df2 = pd.DataFrame(result2)\n",
    "df2"
   ]
  },
  {
   "cell_type": "code",
   "execution_count": 10,
   "metadata": {},
   "outputs": [
    {
     "name": "stdout",
     "output_type": "stream",
     "text": [
      "1\n",
      "2\n",
      "3\n",
      "4\n",
      "5\n",
      "6\n",
      "7\n",
      "8\n",
      "9\n",
      "10\n",
      "11\n",
      "12\n",
      "13\n",
      "14\n",
      "15\n",
      "16\n",
      "17\n",
      "18\n",
      "19\n",
      "20\n",
      "21\n",
      "22\n",
      "23\n",
      "24\n",
      "25\n",
      "26\n",
      "27\n",
      "28\n",
      "29\n",
      "30\n",
      "31\n",
      "32\n",
      "33\n",
      "34\n",
      "35\n",
      "36\n",
      "37\n",
      "38\n",
      "39\n",
      "40\n",
      "41\n",
      "42\n",
      "43\n",
      "44\n",
      "45\n",
      "46\n",
      "47\n",
      "48\n",
      "49\n",
      "50\n",
      "51\n",
      "52\n",
      "53\n",
      "54\n",
      "55\n",
      "56\n",
      "57\n",
      "58\n",
      "59\n",
      "60\n",
      "61\n",
      "62\n",
      "63\n"
     ]
    }
   ],
   "source": [
    "for i in df1[0]:\n",
    "    print(i)"
   ]
  },
  {
   "cell_type": "markdown",
   "metadata": {},
   "source": [
    "### Close connection"
   ]
  },
  {
   "cell_type": "code",
   "execution_count": 63,
   "metadata": {},
   "outputs": [],
   "source": [
    "cur.close()\n",
    "conn.close()"
   ]
  }
 ],
 "metadata": {
  "kernelspec": {
   "display_name": "Python 3.11.0 64-bit",
   "language": "python",
   "name": "python3"
  },
  "language_info": {
   "codemirror_mode": {
    "name": "ipython",
    "version": 3
   },
   "file_extension": ".py",
   "mimetype": "text/x-python",
   "name": "python",
   "nbconvert_exporter": "python",
   "pygments_lexer": "ipython3",
   "version": "3.11.0"
  },
  "orig_nbformat": 4,
  "vscode": {
   "interpreter": {
    "hash": "49d7668e68eea011e4de75cdfd587728ea78f4a95dad25e53c0e2ee45c16fd32"
   }
  }
 },
 "nbformat": 4,
 "nbformat_minor": 2
}
